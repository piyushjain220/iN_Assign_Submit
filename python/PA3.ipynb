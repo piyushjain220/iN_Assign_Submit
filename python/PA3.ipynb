{
 "cells": [
  {
   "cell_type": "markdown",
   "metadata": {},
   "source": [
    "1.1 Write a Python Program to implement your own myreduce() function which works exactly\n",
    "like Python's built-in function reduce()"
   ]
  },
  {
   "cell_type": "code",
   "execution_count": 26,
   "metadata": {},
   "outputs": [
    {
     "name": "stdout",
     "output_type": "stream",
     "text": [
      "Sum on list [1, 2, 3, 4, 5] using custom reduce function 15\n",
      "Multiplication on list [1, 2, 3, 4, 5] using custom reduce function 120\n"
     ]
    }
   ],
   "source": [
    "# Reduce will produce a single result\n",
    "def myreduce(anyfunc, sequence):\n",
    "    result = sequence[0]\n",
    "    for item in sequence[1:]:\n",
    "        result = anyfunc(result, item)\n",
    "    return result\n",
    "\n",
    "def sums(x,y): return x + y\n",
    "def muls(x,y): return x * y\n",
    "\n",
    "customlist = [1,2,3,4,5]\n",
    "print (\"Sum on list %s using custom reduce function \"%(customlist)   + str(myreduce(sums, [1,2,3,4,5])))\n",
    "print (\"Multiplication on list %s using custom reduce function \"%(customlist)   + str(myreduce(muls, [1,2,3,4,5])))"
   ]
  },
  {
   "cell_type": "markdown",
   "metadata": {},
   "source": [
    "1.2 Write a Python program to implement your own myfilter() function which works exactly\n",
    "like Python's built-in function filter()"
   ]
  },
  {
   "cell_type": "code",
   "execution_count": 25,
   "metadata": {},
   "outputs": [
    {
     "name": "stdout",
     "output_type": "stream",
     "text": [
      "Filter only positive Integers on list [0,1,-2,3,4,5] using custom filter function[1, 3, 4, 5]\n",
      "[1, 3, 5, 13]\n"
     ]
    }
   ],
   "source": [
    "def myfilter(anyfunc, sequence):\n",
    "    # Initialize empty list\n",
    "    result = []\n",
    "    # iterate over sequence of items in sequence and apply filter function\n",
    "    for item in sequence:\n",
    "        if anyfunc(item):\n",
    "            result.append(item)\n",
    "    # return funal output\n",
    "    return result\n",
    "\n",
    "# test myfilter function\n",
    "def ispositive(x):\n",
    "    if (x <= 0): \n",
    "        return False \n",
    "    else: \n",
    "        return True\n",
    "\n",
    "print (\"Filter only positive Integers on list [0,1,-2,3,4,5] using custom filter function\"  + str(myfilter(ispositive, [0,1,-2,3,4,5])))\n",
    "\n",
    "seq = [0, 1, 2, 3, 5, 8, 13]\n",
    "# result contains odd numbers of the list \n",
    "result = myfilter(lambda x: x % 2 != 0, seq)\n",
    "print(result)"
   ]
  },
  {
   "cell_type": "markdown",
   "metadata": {},
   "source": [
    "2. Implement List comprehensions to produce the following lists.\n",
    "Write List comprehensions to produce the following Lists\n",
    "['A', 'C', 'A', 'D', 'G', 'I', ’L’, ‘ D’]\n",
    "['x', 'xx', 'xxx', 'xxxx', 'y', 'yy', 'yyy', 'yyyy', 'z', 'zz', 'zzz', 'zzzz']\n",
    "['x', 'y', 'z', 'xx', 'yy', 'zz', 'xxx', 'yyy', 'zzz', 'xxxx', 'yyyy', 'zzzz']\n",
    "[[2], [3], [4], [3], [4], [5], [4], [5], [6]] [[2, 3, 4, 5], [3, 4, 5, 6],\n",
    "[4, 5, 6, 7], [5, 6, 7, 8]]\n",
    "[(1, 1), (2, 1), (3, 1), (1, 2), (2, 2), (3, 2), (1, 3), (2, 3), (3, 3)]"
   ]
  },
  {
   "cell_type": "code",
   "execution_count": 39,
   "metadata": {},
   "outputs": [
    {
     "name": "stdout",
     "output_type": "stream",
     "text": [
      "ACADGILD \t\t=> ['A', 'C', 'A', 'D', 'G', 'I', 'L', 'D']\n",
      "['x', 'y', 'z'] \t=> ['x', 'xx', 'xxx', 'xxxx', 'y', 'yy', 'yyy', 'yyyy', 'z', 'zz', 'zzz', 'zzzz']\n",
      "['x', 'y', 'z'] \t=> ['x', 'y', 'z', 'xx', 'yy', 'zz', 'xxx', 'yyy', 'zzz', 'xxxx', 'yyyy', 'zzzz']\n",
      "[2, 3, 4] \t\t=> [[2], [3], [4], [3], [4], [5], [4], [5], [6]]\n",
      "[2, 3, 4, 5] \t\t=> [[2, 3, 4, 5], [3, 4, 5, 6], [4, 5, 6, 7], [5, 6, 7, 8]]\n",
      "[1, 2, 3] \t\t=> [(1, 1), (2, 1), (3, 1), (1, 2), (2, 2), (3, 2), (1, 3), (2, 3), (3, 3)]\n"
     ]
    }
   ],
   "source": [
    "def strops(func, text, rgfrm=1,rgto=5):\n",
    "    if func=='strtolst':\n",
    "        return \"%s \\t\\t=> \"%(text) + str([alphabet for alphabet in word])\n",
    "    elif func=='charinc':\n",
    "        return \"%s \\t=> \"%(text) +   str([item*num for item in text for num in range(rgfrm,rgto)])\n",
    "    elif func=='charincalst':\n",
    "        return \"%s \\t=> \"%(text) +   str([item*num for num in range(rgfrm,rgto) for item in text])\n",
    "    elif func=='lstsep':\n",
    "        return \"%s \\t\\t=> \"%(text) +   str([[item+num] for item in text for num in range(rgfrm,rgto)])\n",
    "    elif func=='lstgrp':\n",
    "        return \"%s \\t\\t=> \"%(text) +   str([[item+num for item in text] for num in range(rgfrm,rgto)])\n",
    "    elif func=='lstchargrp':\n",
    "        return \"%s \\t\\t=> \"%(text) +   str([(b,a) for a in text for b in text])\n",
    "    else:\n",
    "        return \"Invalid usage\"\n",
    "\n",
    "print(strops('strtolst',\"ACADGILD\"))\n",
    "print(strops('charinc',['x','y','z'],1,5))\n",
    "print(strops('charincalst',['x','y','z'],1,5))\n",
    "print(strops('lstsep',[2,3,4],0,3))\n",
    "print(strops('lstgrp',[2,3,4,5],0,4))\n",
    "print(strops('lstchargrp',[1,2,3]))"
   ]
  },
  {
   "cell_type": "code",
   "execution_count": null,
   "metadata": {},
   "outputs": [],
   "source": []
  }
 ],
 "metadata": {
  "kernelspec": {
   "display_name": "Python 3",
   "language": "python",
   "name": "python3"
  },
  "language_info": {
   "codemirror_mode": {
    "name": "ipython",
    "version": 3
   },
   "file_extension": ".py",
   "mimetype": "text/x-python",
   "name": "python",
   "nbconvert_exporter": "python",
   "pygments_lexer": "ipython3",
   "version": "3.7.6"
  }
 },
 "nbformat": 4,
 "nbformat_minor": 4
}
