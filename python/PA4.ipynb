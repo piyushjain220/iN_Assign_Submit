{
 "cells": [
  {
   "cell_type": "markdown",
   "metadata": {},
   "source": [
    "1.1 Write a Python Program(with class concepts) to find the area of the triangle using the below formula.\n",
    "area = (s*(s-a)*(s-b)*(s-c)) ** 0.5\n",
    "\n",
    "Function to take the length of the sides of triangle from user should be defined in the parent\n",
    "class and function to calculate the area should be defined in subclass."
   ]
  },
  {
   "cell_type": "code",
   "execution_count": 41,
   "metadata": {},
   "outputs": [
    {
     "name": "stdout",
     "output_type": "stream",
     "text": [
      "2.9047375096555625\n"
     ]
    }
   ],
   "source": [
    "import math\n",
    "class AreaTriangle:\n",
    "    def __init__(self):\n",
    "        self.p=0\n",
    "    \n",
    "    def tarea(self, l1, l2, l3):\n",
    "        p = (l1+l2+l3)/2\n",
    "        area = math.sqrt(p*(p-l1)*(p-l2)*(p-l3))\n",
    "        return area\n",
    "\n",
    "alec = AreaTriangle()\n",
    "print(alec.tarea(2,3,4))\n"
   ]
  },
  {
   "cell_type": "markdown",
   "metadata": {},
   "source": [
    "1.2 Write a function filter_long_words() that takes a list of words and an integer n and returns\n",
    "the list of words that are longer than n."
   ]
  },
  {
   "cell_type": "code",
   "execution_count": 8,
   "metadata": {},
   "outputs": [
    {
     "data": {
      "text/plain": [
       "['Laptop', 'Computer']"
      ]
     },
     "execution_count": 8,
     "metadata": {},
     "output_type": "execute_result"
    }
   ],
   "source": [
    "def filter_long_words(lst, clen):\n",
    "    flist=[]\n",
    "    for x in lst:\n",
    "        if len(x)>clen:\n",
    "            flist.append(x)\n",
    "    return flist\n",
    "\n",
    "newlist = [\"Hello\",\"Laptop\",\"Glass\",\"Computer\",]\n",
    "filter_long_words(newlist,5)"
   ]
  },
  {
   "cell_type": "markdown",
   "metadata": {},
   "source": [
    "2.1 Write a Python program using function concept that maps list of words into a list of integers representing the lengths of the corresponding words.\n",
    "\n",
    "Hint: If a list [ ab,cde,erty] is passed on to the python function output should come as [2,3,4]\n",
    "Here 2,3 and 4 are the lengths of the words in the list."
   ]
  },
  {
   "cell_type": "code",
   "execution_count": 10,
   "metadata": {},
   "outputs": [
    {
     "data": {
      "text/plain": [
       "[5, 6, 4, 8]"
      ]
     },
     "execution_count": 10,
     "metadata": {},
     "output_type": "execute_result"
    }
   ],
   "source": [
    "def conv_list_int(lst):\n",
    "    flist=[]\n",
    "    for x in lst:\n",
    "        flist.append(len(x))\n",
    "    return flist\n",
    "\n",
    "newlist = [\"Hello\",\"Laptop\",\"Glas\",\"Computer\",]\n",
    "conv_list_int(newlist)"
   ]
  },
  {
   "cell_type": "markdown",
   "metadata": {},
   "source": [
    "2.2 Write a Python function which takes a character (i.e. a string of length 1) and returns True if it is a vowel, False otherwise."
   ]
  },
  {
   "cell_type": "code",
   "execution_count": 14,
   "metadata": {},
   "outputs": [
    {
     "name": "stdout",
     "output_type": "stream",
     "text": [
      "b is a Consonant\n"
     ]
    }
   ],
   "source": [
    "def str_vov_cons(strl):\n",
    "    if len(strl)==1:\n",
    "        if(strl=='A' or strl=='a' or strl=='E' or strl =='e' or strl=='I' or strl=='i' or strl=='O' or strl=='o' or strl=='U' or strl=='u'):\n",
    "            print(strl, \"is a Vowel\")\n",
    "        else:\n",
    "            print(strl, \"is a Consonant\")\n",
    "    else:\n",
    "        print(\"Please enter only one letter\")\n",
    "str_vov_cons(\"b\")"
   ]
  },
  {
   "cell_type": "code",
   "execution_count": null,
   "metadata": {},
   "outputs": [],
   "source": []
  }
 ],
 "metadata": {
  "kernelspec": {
   "display_name": "Python 3",
   "language": "python",
   "name": "python3"
  },
  "language_info": {
   "codemirror_mode": {
    "name": "ipython",
    "version": 3
   },
   "file_extension": ".py",
   "mimetype": "text/x-python",
   "name": "python",
   "nbconvert_exporter": "python",
   "pygments_lexer": "ipython3",
   "version": "3.7.6"
  }
 },
 "nbformat": 4,
 "nbformat_minor": 4
}
